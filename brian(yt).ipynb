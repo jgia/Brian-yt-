{
 "cells": [
  {
   "cell_type": "code",
   "metadata": {
    "tags": [],
    "cell_id": "d58e08de-16d3-407a-aa8a-0b2236b0a5b1",
    "deepnote_to_be_reexecuted": false,
    "source_hash": "8ca6a091",
    "execution_start": 1648661315721,
    "execution_millis": 2691,
    "deepnote_cell_type": "code",
    "deepnote_cell_height": 814.953125
   },
   "source": "import pandas as pd\nimport numpy as np\nimport matplotlib.pyplot as plt",
   "execution_count": 1,
   "outputs": []
  },
  {
   "cell_type": "code",
   "source": "df = pd.read_csv(\"National Universities Rankings.csv\", encoding='latin')\ndf['Tuition and fees'] = df['Tuition and fees'].str.replace(',', '').str.replace('$', '').astype(int)\ndf['In-state'] = df['In-state'].replace('nan', np.nan).str.replace(',', '').str.replace('$', '').astype(float)\ndf['Undergrad Enrollment'] = df['Undergrad Enrollment'].str.replace(',', '').astype(int)\ndf\n",
   "metadata": {
    "cell_id": "2e7e85d91dc24aa4bf6f40237baeef72",
    "tags": [],
    "deepnote_to_be_reexecuted": false,
    "source_hash": "9a1a854e",
    "execution_start": 1648661318436,
    "execution_millis": 202,
    "deepnote_table_state": {
     "pageSize": 10,
     "pageIndex": 2,
     "filters": [],
     "sortBy": []
    },
    "deepnote_table_loading": false,
    "deepnote_cell_type": "code",
    "deepnote_cell_height": 816.953125
   },
   "outputs": [
    {
     "name": "stderr",
     "text": "/shared-libs/python3.7/py-core/lib/python3.7/site-packages/ipykernel_launcher.py:3: FutureWarning: The default value of regex will change from True to False in a future version. In addition, single character regular expressions will*not* be treated as literal strings when regex=True.\n  This is separate from the ipykernel package so we can avoid doing imports until\n/shared-libs/python3.7/py-core/lib/python3.7/site-packages/ipykernel_launcher.py:4: FutureWarning: The default value of regex will change from True to False in a future version. In addition, single character regular expressions will*not* be treated as literal strings when regex=True.\n  after removing the cwd from sys.path.\n",
     "output_type": "stream"
    },
    {
     "output_type": "execute_result",
     "execution_count": 2,
     "data": {
      "application/vnd.deepnote.dataframe.v3+json": {
       "column_count": 7,
       "row_count": 231,
       "columns": [
        {
         "name": "Name",
         "dtype": "object",
         "stats": {
          "unique_count": 231,
          "nan_count": 0,
          "categories": [
           {
            "name": "Princeton University",
            "count": 1
           },
           {
            "name": "Harvard University",
            "count": 1
           },
           {
            "name": "229 others",
            "count": 229
           }
          ]
         }
        },
        {
         "name": "Location",
         "dtype": "object",
         "stats": {
          "unique_count": 192,
          "nan_count": 0,
          "categories": [
           {
            "name": "New York, NY",
            "count": 6
           },
           {
            "name": "Chicago, IL",
            "count": 5
           },
           {
            "name": "190 others",
            "count": 220
           }
          ]
         }
        },
        {
         "name": "Rank",
         "dtype": "int64",
         "stats": {
          "unique_count": 63,
          "nan_count": 0,
          "min": "1",
          "max": "220",
          "histogram": [
           {
            "bin_start": 1,
            "bin_end": 22.9,
            "count": 22
           },
           {
            "bin_start": 22.9,
            "bin_end": 44.8,
            "count": 27
           },
           {
            "bin_start": 44.8,
            "bin_end": 66.69999999999999,
            "count": 18
           },
           {
            "bin_start": 66.69999999999999,
            "bin_end": 88.6,
            "count": 24
           },
           {
            "bin_start": 88.6,
            "bin_end": 110.5,
            "count": 19
           },
           {
            "bin_start": 110.5,
            "bin_end": 132.39999999999998,
            "count": 22
           },
           {
            "bin_start": 132.39999999999998,
            "bin_end": 154.29999999999998,
            "count": 26
           },
           {
            "bin_start": 154.29999999999998,
            "bin_end": 176.2,
            "count": 24
           },
           {
            "bin_start": 176.2,
            "bin_end": 198.1,
            "count": 19
           },
           {
            "bin_start": 198.1,
            "bin_end": 220,
            "count": 30
           }
          ]
         }
        },
        {
         "name": "Description",
         "dtype": "object",
         "stats": {
          "unique_count": 231,
          "nan_count": 0,
          "categories": [
           {
            "name": "Princeton, the fourth-oldest college in the United States, is located in the quiet town of Princeton, New Jersey. Within the walls of its historic ivy-covered campus, Princeton offers a number of events, activities and organizations. The Princeton Tigers, members of the Ivy League, are well known for their consistently strong men's and women's lacrosse teams. Students live in one of six residential colleges that provide a residential community as well as dining services but have the option to join one of more than 10 eating clubs for their junior and senior years. The eating clubs serve as social and dining organizations for the students who join them. Princeton's unofficial motto, \"In the Nation's Service and in the Service of All Nations,\" speaks to the university's commitment to community service. ",
            "count": 1
           },
           {
            "name": "Harvard is located in Cambridge, Massachusetts, just outside of Boston. Harvard's extensive library system houses the oldest collection in the United States and the largest private collection in the world. There is more to the school than endless stacks, though: Harvard's athletic teams compete in the Ivy League, and every football season ends with \"The Game,\" an annual matchup between storied rivals Harvard and Yale. At Harvard, on-campus residential housing is an integral part of student life. Freshmen live around the Harvard Yard at the center of campus, after which they are placed in one of 12 undergraduate houses for their remaining three years. Although they are no longer recognized by the university as official student groups, the eight all-male \"final clubs\" serve as social organizations for some undergraduate students; Harvard also has five female clubs. ",
            "count": 1
           },
           {
            "name": "229 others",
            "count": 229
           }
          ]
         }
        },
        {
         "name": "Tuition and fees",
         "dtype": "int64",
         "stats": {
          "unique_count": 230,
          "nan_count": 0,
          "min": "5300",
          "max": "55056",
          "histogram": [
           {
            "bin_start": 5300,
            "bin_end": 10275.6,
            "count": 1
           },
           {
            "bin_start": 10275.6,
            "bin_end": 15251.2,
            "count": 2
           },
           {
            "bin_start": 15251.2,
            "bin_end": 20226.800000000003,
            "count": 16
           },
           {
            "bin_start": 20226.800000000003,
            "bin_end": 25202.4,
            "count": 35
           },
           {
            "bin_start": 25202.4,
            "bin_end": 30178,
            "count": 51
           },
           {
            "bin_start": 30178,
            "bin_end": 35153.600000000006,
            "count": 32
           },
           {
            "bin_start": 35153.600000000006,
            "bin_end": 40129.200000000004,
            "count": 19
           },
           {
            "bin_start": 40129.200000000004,
            "bin_end": 45104.8,
            "count": 27
           },
           {
            "bin_start": 45104.8,
            "bin_end": 50080.4,
            "count": 26
           },
           {
            "bin_start": 50080.4,
            "bin_end": 55056,
            "count": 22
           }
          ]
         }
        },
        {
         "name": "In-state",
         "dtype": "float64",
         "stats": {
          "unique_count": 132,
          "nan_count": 98,
          "min": "4965.0",
          "max": "18687.0",
          "histogram": [
           {
            "bin_start": 4965,
            "bin_end": 6337.2,
            "count": 3
           },
           {
            "bin_start": 6337.2,
            "bin_end": 7709.4,
            "count": 18
           },
           {
            "bin_start": 7709.4,
            "bin_end": 9081.6,
            "count": 19
           },
           {
            "bin_start": 9081.6,
            "bin_end": 10453.8,
            "count": 23
           },
           {
            "bin_start": 10453.8,
            "bin_end": 11826,
            "count": 24
           },
           {
            "bin_start": 11826,
            "bin_end": 13198.2,
            "count": 11
           },
           {
            "bin_start": 13198.2,
            "bin_end": 14570.4,
            "count": 21
           },
           {
            "bin_start": 14570.4,
            "bin_end": 15942.6,
            "count": 6
           },
           {
            "bin_start": 15942.6,
            "bin_end": 17314.800000000003,
            "count": 3
           },
           {
            "bin_start": 17314.800000000003,
            "bin_end": 18687,
            "count": 5
           }
          ]
         }
        },
        {
         "name": "Undergrad Enrollment",
         "dtype": "int64",
         "stats": {
          "unique_count": 230,
          "nan_count": 0,
          "min": "1001",
          "max": "54513",
          "histogram": [
           {
            "bin_start": 1001,
            "bin_end": 6352.2,
            "count": 61
           },
           {
            "bin_start": 6352.2,
            "bin_end": 11703.4,
            "count": 49
           },
           {
            "bin_start": 11703.4,
            "bin_end": 17054.6,
            "count": 34
           },
           {
            "bin_start": 17054.6,
            "bin_end": 22405.8,
            "count": 30
           },
           {
            "bin_start": 22405.8,
            "bin_end": 27757,
            "count": 27
           },
           {
            "bin_start": 27757,
            "bin_end": 33108.2,
            "count": 15
           },
           {
            "bin_start": 33108.2,
            "bin_end": 38459.4,
            "count": 8
           },
           {
            "bin_start": 38459.4,
            "bin_end": 43810.6,
            "count": 4
           },
           {
            "bin_start": 43810.6,
            "bin_end": 49161.799999999996,
            "count": 2
           },
           {
            "bin_start": 49161.799999999996,
            "bin_end": 54513,
            "count": 1
           }
          ]
         }
        },
        {
         "name": "_deepnote_index_column",
         "dtype": "int64"
        }
       ],
       "rows": [
        {
         "Name": "Georgetown University",
         "Location": "Washington, DC",
         "Rank": 20,
         "Description": "Georgetown University is situated overlooking the Potomac River just a few minutes from downtown Washington. There are numerous traditional residence halls, and freshmen and sophomores are required to live on campus. Other students choose to live in the townhouses and apartments surrounding campus. Student organizations on campus include religious groups, media outlets and student government. The Georgetown Hoyas are part of the NCAA's Division I and are well known for their dominant men's basketball team, which maintains a fierce rivalry with Syracuse University and plays most home games at the Verizon Center, also home to the Washington Wizards. The popular chant \"hoya saxa,\" a mix of ancient Greek and Latin that means \"what rocks,\" gained prominence in 1920 and - contrary to popular belief - has nothing to do with Georgetown's mascot, Jack the Bulldog. ",
         "Tuition and fees": 50547,
         "In-state": "nan",
         "Undergrad Enrollment": 7562,
         "_deepnote_index_column": 20
        },
        {
         "Name": "University of California--Berkeley",
         "Location": "Berkeley, CA",
         "Rank": 20,
         "Description": "The University of California--Berkeley, often referred to as Cal, is situated overlooking the San Francisco Bay. Typically, 95 percent or more of incoming freshmen at Berkeley choose to live on campus. There are more than 1,000 student organizations, ranging from political groups to a hang gliding club and everything in between. Berkeley also has a thriving Greek life with dozens of fraternity and sorority chapters. The California Golden Bears, Berkeley's athletic teams, compete in the Pac-12 Conference and are known for their traditional arch rivalry with Stanford University. ",
         "Tuition and fees": 40191,
         "In-state": 13509,
         "Undergrad Enrollment": 27496,
         "_deepnote_index_column": 21
        },
        {
         "Name": "University of Southern California",
         "Location": "Los Angeles, CA",
         "Rank": 23,
         "Description": "The University of Southern California's central campus, referred to as the University Park campus, is located in Los Angeles's Downtown Arts and Education Corridor. USC has other campuses in L.A. in addition to sites around Southern California and in Sacramento, Calif., and Washington. Students can participate in the more than 700 on-campus organizations, ranging from religious groups to club sports. USC students are not required to live on campus, but the university offers housing in its 40 or so residence halls and apartment buildings. A thriving Greek life comprises more than 60 chapters representing more than 3,500 students. The USC Trojans compete in the Pac-12 Conference and are known for their legendary football program. ",
         "Tuition and fees": 52217,
         "In-state": "nan",
         "Undergrad Enrollment": 18810,
         "_deepnote_index_column": 22
        },
        {
         "Name": "Carnegie Mellon University",
         "Location": "Pittsburgh, PA",
         "Rank": 24,
         "Description": "Carnegie Mellon University, founded by industrialist and philanthropist Andrew Carnegie, is located in Pittsburgh, which offers dining and entertainment options as well as professional sports teams including the Penguins (hockey), Steelers (football) and Pirates (baseball). Only freshmen are required to live on campus, but the university guarantees housing for all four years, and the majority of students choose to remain on campus. Nearly 20 percent of the student population is affiliated with Greek life, which consists of more than 20 fraternities and sororities. The Carnegie Mellon Tartans compete in NCAA Division III competitions, and the Kiltie Band, which sports full Scottish regalia, performs at every home football game. ",
         "Tuition and fees": 52040,
         "In-state": "nan",
         "Undergrad Enrollment": 6454,
         "_deepnote_index_column": 23
        },
        {
         "Name": "University of California--Los Angeles",
         "Location": "Los Angeles, CA",
         "Rank": 24,
         "Description": "The University of California--Los Angeles, commonly referred to as UCLA, is located in the Westwood neighborhood of L.A., just five miles from the Pacific Ocean. UCLA guarantees housing for three years. Students can join any of the more than 800 student organizations, including 60 or so Greek chapters, which represent about 13 percent of the student body. The university has a number of student media groups including a newspaper, magazine, and radio and TV stations. The UCLA Bruins compete in the Pac-12 Conference of NCAA's Division I and are well known for their successful men's and women's water polo teams. The Bruins' football team plays its home games at the famous Rose Bowl stadium in nearby Pasadena. ",
         "Tuition and fees": 39518,
         "In-state": 12836,
         "Undergrad Enrollment": 29585,
         "_deepnote_index_column": 24
        },
        {
         "Name": "University of Virginia",
         "Location": "Charlottesville, VA",
         "Rank": 24,
         "Description": "Founded by Thomas Jefferson, the University of Virginia is located in Charlottesville. It's referred to among insiders as Mr. Jefferson's University or simply The University. Only first-year students are required to live on campus, and many upperclassmen live in off-campus apartments or fraternity and sorority houses. Greek life is prominent at UVA with a membership that includes approximately 30 percent of the student body. The Cavaliers, known unofficially as Wahoos or äóÖHoos, are members of the NCAA Division I Atlantic Coast Conference and are well known for their consistently dominant men's and women's lacrosse teams. ",
         "Tuition and fees": 45066,
         "In-state": 15722,
         "Undergrad Enrollment": 16736,
         "_deepnote_index_column": 25
        },
        {
         "Name": "Tufts University",
         "Location": "Medford, MA",
         "Rank": 27,
         "Description": "Tufts University is located in the Medford/Somerville area of Massachusetts, not far from downtown Boston. Tufts has additional campuses in Boston's Chinatown neighborhood, where its health sciences program is located, and in the suburb of Grafton, home to the Cummings School of Veterinary Medicine. All freshmen and sophomores are required to live on campus in dorms, suites or university-owned houses or apartments. Some student groups are the Cycling Club; the Beelzebubs, an all-male a cappella group; and the Freethought Society. About half of the student body participates in study abroad programs, and approximately 15 percent of students are affiliated with Greek life. Tufts' official mascot, Jumbo the elephant, is the only school mascot listed in Webster's Dictionary. ",
         "Tuition and fees": 52430,
         "In-state": "nan",
         "Undergrad Enrollment": 5290,
         "_deepnote_index_column": 26
        },
        {
         "Name": "University of Michigan--Ann Arbor",
         "Location": "Ann Arbor, MI",
         "Rank": 27,
         "Description": "The University of Michigan boasts one of the best college towns in the country: Ann Arbor, only 45 minutes from the city of Detroit. Freshmen are guaranteed housing but are not required to live on campus. Nearly 20 percent of the undergraduate student body is affiliated with Greek life at Michigan, which contains approximately 60 fraternity and sorority chapters. If Greek life does not sound appealing, there are more than 900 other student organizations from which to choose. The Michigan Wolverines have many traditions: Their colors are maize and blue, their widely known chant is \"Go Blue!,\" their stadium is called the \"Big House,\" and their football program, known for its fierce rivalry with Ohio State, is one of the most storied teams in college football. ",
         "Tuition and fees": 43476,
         "In-state": 13856,
         "Undergrad Enrollment": 28312,
         "_deepnote_index_column": 27
        },
        {
         "Name": "Wake Forest University",
         "Location": "Winston-Salem, NC",
         "Rank": 27,
         "Description": "Wake Forest University is located in Winston-Salem, North Carolina, just a few hours by car from skiing in the Blue Ridge Mountains or relaxing on the beaches of South Carolina. Campus Recreation offers intramural sports and outdoor trips such as kayaking on the New River, hang-gliding and sky-diving. The Demon Deacons, Wake's athletic teams, are members of the NCAA Division I Atlantic Coast Conference. When Wake Forest played rival Duke University in 1922 and won, a local reporter described the Wake players as \"Demon Deacons,\" and thus, the mascot was born. Students must live on campus for six semesters in one of the residence halls. Greek organizations play a big role at Wake Forest, with a membership consisting of almost half of the student body. ",
         "Tuition and fees": 49308,
         "In-state": "nan",
         "Undergrad Enrollment": 4871,
         "_deepnote_index_column": 28
        },
        {
         "Name": "University of North Carolina--Chapel Hill",
         "Location": "Chapel Hill, NC",
         "Rank": 30,
         "Description": "The University of North Carolina--Chapel Hill, often referred to as UNC, offers a wide range of student activities. Popular student organizations include The Daily Tarheel, UNC's student newspaper, and WXYC, the student-run radio station. More than 3,000 students are members of Greek life. Chapel Hill, which surrounds UNC, is often considered one of the best college towns in the country, offering music, restaurants and shopping. Almost half of all undergraduates live on campus in one of the residence halls or apartment complexes. The North Carolina Tar Heels are members of the Atlantic Coast Conference and are known for their men's basketball team, which maintains a storied rivalry with nearby institution Duke University and is one of the most successful programs in college basketball. Former players include Michael Jordan and Vince Carter. ",
         "Tuition and fees": 33916,
         "In-state": 8834,
         "Undergrad Enrollment": 18415,
         "_deepnote_index_column": 29
        }
       ]
      },
      "text/plain": "                                         Name             Location  Rank  \\\n0                        Princeton University        Princeton, NJ     1   \n1                          Harvard University        Cambridge, MA     2   \n2                       University of Chicago          Chicago, IL     3   \n3                             Yale University        New Haven, CT     3   \n4                         Columbia University         New York, NY     5   \n..                                        ...                  ...   ...   \n226    University of Massachusetts--Dartmouth  North Dartmouth, MA   220   \n227         University of Missouri--St. Louis        St. Louis, MO   220   \n228  University of North Carolina--Greensboro       Greensboro, NC   220   \n229        University of Southern Mississippi      Hattiesburg, MS   220   \n230                     Utah State University            Logan, UT   220   \n\n                                           Description  Tuition and fees  \\\n0    Princeton, the fourth-oldest college in the Un...             45320   \n1    Harvard is located in Cambridge, Massachusetts...             47074   \n2    The University of Chicago, situated in Chicago...             52491   \n3    Yale University, located in New Haven, Connect...             49480   \n4    Columbia University, located in Manhattan's Mo...             55056   \n..                                                 ...               ...   \n226  Located about 60 miles south of Boston, the Un...             19270   \n227  Undergraduates at University of Missouri--St. ...             26277   \n228  University of North Carolina--Greensboro is lo...             21595   \n229  The University of Southern Mississippi has two...             16094   \n230  Founded in 1888, Utah State University is a pu...             19772   \n\n     In-state  Undergrad Enrollment  \n0         NaN                  5402  \n1         NaN                  6699  \n2         NaN                  5844  \n3         NaN                  5532  \n4         NaN                  6102  \n..        ...                   ...  \n226   12588.0                  7295  \n227   10065.0                 13569  \n228    6733.0                 15951  \n229    7224.0                 11840  \n230    6866.0                 25259  \n\n[231 rows x 7 columns]",
      "text/html": "<div>\n<style scoped>\n    .dataframe tbody tr th:only-of-type {\n        vertical-align: middle;\n    }\n\n    .dataframe tbody tr th {\n        vertical-align: top;\n    }\n\n    .dataframe thead th {\n        text-align: right;\n    }\n</style>\n<table border=\"1\" class=\"dataframe\">\n  <thead>\n    <tr style=\"text-align: right;\">\n      <th></th>\n      <th>Name</th>\n      <th>Location</th>\n      <th>Rank</th>\n      <th>Description</th>\n      <th>Tuition and fees</th>\n      <th>In-state</th>\n      <th>Undergrad Enrollment</th>\n    </tr>\n  </thead>\n  <tbody>\n    <tr>\n      <th>0</th>\n      <td>Princeton University</td>\n      <td>Princeton, NJ</td>\n      <td>1</td>\n      <td>Princeton, the fourth-oldest college in the Un...</td>\n      <td>45320</td>\n      <td>NaN</td>\n      <td>5402</td>\n    </tr>\n    <tr>\n      <th>1</th>\n      <td>Harvard University</td>\n      <td>Cambridge, MA</td>\n      <td>2</td>\n      <td>Harvard is located in Cambridge, Massachusetts...</td>\n      <td>47074</td>\n      <td>NaN</td>\n      <td>6699</td>\n    </tr>\n    <tr>\n      <th>2</th>\n      <td>University of Chicago</td>\n      <td>Chicago, IL</td>\n      <td>3</td>\n      <td>The University of Chicago, situated in Chicago...</td>\n      <td>52491</td>\n      <td>NaN</td>\n      <td>5844</td>\n    </tr>\n    <tr>\n      <th>3</th>\n      <td>Yale University</td>\n      <td>New Haven, CT</td>\n      <td>3</td>\n      <td>Yale University, located in New Haven, Connect...</td>\n      <td>49480</td>\n      <td>NaN</td>\n      <td>5532</td>\n    </tr>\n    <tr>\n      <th>4</th>\n      <td>Columbia University</td>\n      <td>New York, NY</td>\n      <td>5</td>\n      <td>Columbia University, located in Manhattan's Mo...</td>\n      <td>55056</td>\n      <td>NaN</td>\n      <td>6102</td>\n    </tr>\n    <tr>\n      <th>...</th>\n      <td>...</td>\n      <td>...</td>\n      <td>...</td>\n      <td>...</td>\n      <td>...</td>\n      <td>...</td>\n      <td>...</td>\n    </tr>\n    <tr>\n      <th>226</th>\n      <td>University of Massachusetts--Dartmouth</td>\n      <td>North Dartmouth, MA</td>\n      <td>220</td>\n      <td>Located about 60 miles south of Boston, the Un...</td>\n      <td>19270</td>\n      <td>12588.0</td>\n      <td>7295</td>\n    </tr>\n    <tr>\n      <th>227</th>\n      <td>University of Missouri--St. Louis</td>\n      <td>St. Louis, MO</td>\n      <td>220</td>\n      <td>Undergraduates at University of Missouri--St. ...</td>\n      <td>26277</td>\n      <td>10065.0</td>\n      <td>13569</td>\n    </tr>\n    <tr>\n      <th>228</th>\n      <td>University of North Carolina--Greensboro</td>\n      <td>Greensboro, NC</td>\n      <td>220</td>\n      <td>University of North Carolina--Greensboro is lo...</td>\n      <td>21595</td>\n      <td>6733.0</td>\n      <td>15951</td>\n    </tr>\n    <tr>\n      <th>229</th>\n      <td>University of Southern Mississippi</td>\n      <td>Hattiesburg, MS</td>\n      <td>220</td>\n      <td>The University of Southern Mississippi has two...</td>\n      <td>16094</td>\n      <td>7224.0</td>\n      <td>11840</td>\n    </tr>\n    <tr>\n      <th>230</th>\n      <td>Utah State University</td>\n      <td>Logan, UT</td>\n      <td>220</td>\n      <td>Founded in 1888, Utah State University is a pu...</td>\n      <td>19772</td>\n      <td>6866.0</td>\n      <td>25259</td>\n    </tr>\n  </tbody>\n</table>\n<p>231 rows × 7 columns</p>\n</div>"
     },
     "metadata": {}
    }
   ],
   "execution_count": 2
  },
  {
   "cell_type": "code",
   "source": "df['state'] = df['Location'].str[-2:]\ndf",
   "metadata": {
    "cell_id": "ee6467169942449c95c7495c5de83f7c",
    "tags": [],
    "deepnote_to_be_reexecuted": false,
    "source_hash": "6c430b6f",
    "execution_start": 1648661318654,
    "execution_millis": 159,
    "deepnote_cell_type": "code",
    "deepnote_cell_height": 634.40625
   },
   "outputs": [
    {
     "output_type": "execute_result",
     "execution_count": 3,
     "data": {
      "application/vnd.deepnote.dataframe.v3+json": {
       "column_count": 8,
       "row_count": 231,
       "columns": [
        {
         "name": "Name",
         "dtype": "object",
         "stats": {
          "unique_count": 231,
          "nan_count": 0,
          "categories": [
           {
            "name": "Princeton University",
            "count": 1
           },
           {
            "name": "Harvard University",
            "count": 1
           },
           {
            "name": "229 others",
            "count": 229
           }
          ]
         }
        },
        {
         "name": "Location",
         "dtype": "object",
         "stats": {
          "unique_count": 192,
          "nan_count": 0,
          "categories": [
           {
            "name": "New York, NY",
            "count": 6
           },
           {
            "name": "Chicago, IL",
            "count": 5
           },
           {
            "name": "190 others",
            "count": 220
           }
          ]
         }
        },
        {
         "name": "Rank",
         "dtype": "int64",
         "stats": {
          "unique_count": 63,
          "nan_count": 0,
          "min": "1",
          "max": "220",
          "histogram": [
           {
            "bin_start": 1,
            "bin_end": 22.9,
            "count": 22
           },
           {
            "bin_start": 22.9,
            "bin_end": 44.8,
            "count": 27
           },
           {
            "bin_start": 44.8,
            "bin_end": 66.69999999999999,
            "count": 18
           },
           {
            "bin_start": 66.69999999999999,
            "bin_end": 88.6,
            "count": 24
           },
           {
            "bin_start": 88.6,
            "bin_end": 110.5,
            "count": 19
           },
           {
            "bin_start": 110.5,
            "bin_end": 132.39999999999998,
            "count": 22
           },
           {
            "bin_start": 132.39999999999998,
            "bin_end": 154.29999999999998,
            "count": 26
           },
           {
            "bin_start": 154.29999999999998,
            "bin_end": 176.2,
            "count": 24
           },
           {
            "bin_start": 176.2,
            "bin_end": 198.1,
            "count": 19
           },
           {
            "bin_start": 198.1,
            "bin_end": 220,
            "count": 30
           }
          ]
         }
        },
        {
         "name": "Description",
         "dtype": "object",
         "stats": {
          "unique_count": 231,
          "nan_count": 0,
          "categories": [
           {
            "name": "Princeton, the fourth-oldest college in the United States, is located in the quiet town of Princeton, New Jersey. Within the walls of its historic ivy-covered campus, Princeton offers a number of events, activities and organizations. The Princeton Tigers, members of the Ivy League, are well known for their consistently strong men's and women's lacrosse teams. Students live in one of six residential colleges that provide a residential community as well as dining services but have the option to join one of more than 10 eating clubs for their junior and senior years. The eating clubs serve as social and dining organizations for the students who join them. Princeton's unofficial motto, \"In the Nation's Service and in the Service of All Nations,\" speaks to the university's commitment to community service. ",
            "count": 1
           },
           {
            "name": "Harvard is located in Cambridge, Massachusetts, just outside of Boston. Harvard's extensive library system houses the oldest collection in the United States and the largest private collection in the world. There is more to the school than endless stacks, though: Harvard's athletic teams compete in the Ivy League, and every football season ends with \"The Game,\" an annual matchup between storied rivals Harvard and Yale. At Harvard, on-campus residential housing is an integral part of student life. Freshmen live around the Harvard Yard at the center of campus, after which they are placed in one of 12 undergraduate houses for their remaining three years. Although they are no longer recognized by the university as official student groups, the eight all-male \"final clubs\" serve as social organizations for some undergraduate students; Harvard also has five female clubs. ",
            "count": 1
           },
           {
            "name": "229 others",
            "count": 229
           }
          ]
         }
        },
        {
         "name": "Tuition and fees",
         "dtype": "int64",
         "stats": {
          "unique_count": 230,
          "nan_count": 0,
          "min": "5300",
          "max": "55056",
          "histogram": [
           {
            "bin_start": 5300,
            "bin_end": 10275.6,
            "count": 1
           },
           {
            "bin_start": 10275.6,
            "bin_end": 15251.2,
            "count": 2
           },
           {
            "bin_start": 15251.2,
            "bin_end": 20226.800000000003,
            "count": 16
           },
           {
            "bin_start": 20226.800000000003,
            "bin_end": 25202.4,
            "count": 35
           },
           {
            "bin_start": 25202.4,
            "bin_end": 30178,
            "count": 51
           },
           {
            "bin_start": 30178,
            "bin_end": 35153.600000000006,
            "count": 32
           },
           {
            "bin_start": 35153.600000000006,
            "bin_end": 40129.200000000004,
            "count": 19
           },
           {
            "bin_start": 40129.200000000004,
            "bin_end": 45104.8,
            "count": 27
           },
           {
            "bin_start": 45104.8,
            "bin_end": 50080.4,
            "count": 26
           },
           {
            "bin_start": 50080.4,
            "bin_end": 55056,
            "count": 22
           }
          ]
         }
        },
        {
         "name": "In-state",
         "dtype": "float64",
         "stats": {
          "unique_count": 132,
          "nan_count": 98,
          "min": "4965.0",
          "max": "18687.0",
          "histogram": [
           {
            "bin_start": 4965,
            "bin_end": 6337.2,
            "count": 3
           },
           {
            "bin_start": 6337.2,
            "bin_end": 7709.4,
            "count": 18
           },
           {
            "bin_start": 7709.4,
            "bin_end": 9081.6,
            "count": 19
           },
           {
            "bin_start": 9081.6,
            "bin_end": 10453.8,
            "count": 23
           },
           {
            "bin_start": 10453.8,
            "bin_end": 11826,
            "count": 24
           },
           {
            "bin_start": 11826,
            "bin_end": 13198.2,
            "count": 11
           },
           {
            "bin_start": 13198.2,
            "bin_end": 14570.4,
            "count": 21
           },
           {
            "bin_start": 14570.4,
            "bin_end": 15942.6,
            "count": 6
           },
           {
            "bin_start": 15942.6,
            "bin_end": 17314.800000000003,
            "count": 3
           },
           {
            "bin_start": 17314.800000000003,
            "bin_end": 18687,
            "count": 5
           }
          ]
         }
        },
        {
         "name": "Undergrad Enrollment",
         "dtype": "int64",
         "stats": {
          "unique_count": 230,
          "nan_count": 0,
          "min": "1001",
          "max": "54513",
          "histogram": [
           {
            "bin_start": 1001,
            "bin_end": 6352.2,
            "count": 61
           },
           {
            "bin_start": 6352.2,
            "bin_end": 11703.4,
            "count": 49
           },
           {
            "bin_start": 11703.4,
            "bin_end": 17054.6,
            "count": 34
           },
           {
            "bin_start": 17054.6,
            "bin_end": 22405.8,
            "count": 30
           },
           {
            "bin_start": 22405.8,
            "bin_end": 27757,
            "count": 27
           },
           {
            "bin_start": 27757,
            "bin_end": 33108.2,
            "count": 15
           },
           {
            "bin_start": 33108.2,
            "bin_end": 38459.4,
            "count": 8
           },
           {
            "bin_start": 38459.4,
            "bin_end": 43810.6,
            "count": 4
           },
           {
            "bin_start": 43810.6,
            "bin_end": 49161.799999999996,
            "count": 2
           },
           {
            "bin_start": 49161.799999999996,
            "bin_end": 54513,
            "count": 1
           }
          ]
         }
        },
        {
         "name": "state",
         "dtype": "object",
         "stats": {
          "unique_count": 51,
          "nan_count": 0,
          "categories": [
           {
            "name": "CA",
            "count": 22
           },
           {
            "name": "NY",
            "count": 21
           },
           {
            "name": "49 others",
            "count": 188
           }
          ]
         }
        },
        {
         "name": "_deepnote_index_column",
         "dtype": "int64"
        }
       ],
       "rows": [
        {
         "Name": "Princeton University",
         "Location": "Princeton, NJ",
         "Rank": 1,
         "Description": "Princeton, the fourth-oldest college in the United States, is located in the quiet town of Princeton, New Jersey. Within the walls of its historic ivy-covered campus, Princeton offers a number of events, activities and organizations. The Princeton Tigers, members of the Ivy League, are well known for their consistently strong men's and women's lacrosse teams. Students live in one of six residential colleges that provide a residential community as well as dining services but have the option to join one of more than 10 eating clubs for their junior and senior years. The eating clubs serve as social and dining organizations for the students who join them. Princeton's unofficial motto, \"In the Nation's Service and in the Service of All Nations,\" speaks to the university's commitment to community service. ",
         "Tuition and fees": 45320,
         "In-state": "nan",
         "Undergrad Enrollment": 5402,
         "state": "NJ",
         "_deepnote_index_column": 0
        },
        {
         "Name": "Harvard University",
         "Location": "Cambridge, MA",
         "Rank": 2,
         "Description": "Harvard is located in Cambridge, Massachusetts, just outside of Boston. Harvard's extensive library system houses the oldest collection in the United States and the largest private collection in the world. There is more to the school than endless stacks, though: Harvard's athletic teams compete in the Ivy League, and every football season ends with \"The Game,\" an annual matchup between storied rivals Harvard and Yale. At Harvard, on-campus residential housing is an integral part of student life. Freshmen live around the Harvard Yard at the center of campus, after which they are placed in one of 12 undergraduate houses for their remaining three years. Although they are no longer recognized by the university as official student groups, the eight all-male \"final clubs\" serve as social organizations for some undergraduate students; Harvard also has five female clubs. ",
         "Tuition and fees": 47074,
         "In-state": "nan",
         "Undergrad Enrollment": 6699,
         "state": "MA",
         "_deepnote_index_column": 1
        },
        {
         "Name": "University of Chicago",
         "Location": "Chicago, IL",
         "Rank": 3,
         "Description": "The University of Chicago, situated in Chicago's Hyde Park community, offers a rich campus life in a big-city setting. The Chicago Maroons have more than 15 NCAA Division III teams, which compete in the University Athletic Association, and have strong basketball and wrestling programs. At Chicago, freshmen are required to live on campus, and more than 50 percent of students choose to remain on campus, while others live in off-campus apartments and houses. On-campus students are placed in \"houses\" within their dorm, which serve as tight-knit communities and provide academic and social support. Chicago offers more than 400 student organizations. ",
         "Tuition and fees": 52491,
         "In-state": "nan",
         "Undergrad Enrollment": 5844,
         "state": "IL",
         "_deepnote_index_column": 2
        },
        {
         "Name": "Yale University",
         "Location": "New Haven, CT",
         "Rank": 3,
         "Description": "Yale University, located in New Haven, Connecticut, is known for its excellent drama and music programs, which reach outside the classroom with student organizations such as the Yale Whiffenpoofs, a famous a cappella group, and the Yale Dramatic Association. The Yale Bulldogs compete in the Ivy League and are well known for their rivalry with Harvard. Students are assigned to live in one of 12 residential colleges during their time at Yale. Each college has a master and dean who live in the college and eat with students in the dining halls. Cultural houses provide a space for students to build a sense of cultural identity on campus. ",
         "Tuition and fees": 49480,
         "In-state": "nan",
         "Undergrad Enrollment": 5532,
         "state": "CT",
         "_deepnote_index_column": 3
        },
        {
         "Name": "Columbia University",
         "Location": "New York, NY",
         "Rank": 5,
         "Description": "Columbia University, located in Manhattan's Morningside Heights neighborhood in New York City, offers a wide range of student activities. The Columbia Lions field more than 25 NCAA Division I teams in the Ivy League. More than 90 percent of students live in on-campus housing, ranging from traditional residence halls to university-owned brownstones. Many of the brownstones are populated by the more than 25 Greek fraternity and sorority chapters on campus, whose membership includes about 10 percent of the student body. Organizations such as Urban New York, which gives out free tickets to city events, foster student interaction with life in the Big Apple. ",
         "Tuition and fees": 55056,
         "In-state": "nan",
         "Undergrad Enrollment": 6102,
         "state": "NY",
         "_deepnote_index_column": 4
        },
        {
         "Name": "Stanford University",
         "Location": "Stanford, CA",
         "Rank": 5,
         "Description": "Stanford University's pristine campus is located in California's Bay Area, about 30 miles from San Francisco. Stanford offers a wide range of student organizations, including the Stanford Pre-Business Association and Stanford Solar Car Project, which designs, builds and races a solar car every two years. The Stanford Cardinals are well known for the traditional \"Big Game\" against Cal, an annual football competition that awards the Stanford Axe--a sought-after trophy--to the victor. Stanford also has successful programs in tennis and golf. Only freshman are required to live on campus, but students are guaranteed housing for all four years and most choose to remain on campus. Greek life at Stanford represents approximately 10 percent of the student body. ",
         "Tuition and fees": 47940,
         "In-state": "nan",
         "Undergrad Enrollment": 6999,
         "state": "CA",
         "_deepnote_index_column": 5
        },
        {
         "Name": "Massachusetts Institute of Technology",
         "Location": "Cambridge, MA",
         "Rank": 7,
         "Description": "MIT is located in Cambridge, Massachusetts, across the Charles River from downtown Boston. Only freshmen students are required to live on campus, but about 70 percent of students choose to remain on campus during their four years. MIT offers housing in one of the coolest dorms in the country, commonly called \"The Sponge,\" designed by architect Steven Holl. The MIT Engineers boast more than 30 NCAA Division III teams, and their mascot is a beaver, which MIT chose because of its \"remarkable engineering and mechanical skill and its habits of industry.\" Each class designs a unique ring called the \"Brass Rat\" that is revealed during sophomore year, a tradition that dates back to 1929. ",
         "Tuition and fees": 48452,
         "In-state": "nan",
         "Undergrad Enrollment": 4527,
         "state": "MA",
         "_deepnote_index_column": 6
        },
        {
         "Name": "Duke University",
         "Location": "Durham, NC",
         "Rank": 8,
         "Description": "Durham, North Carolina, which surrounds Duke's campus, offers a variety of activities including shopping, dining and entertainment. Its \"Bull City\" nickname comes from the Blackwell Tobacco Company's Bull Durham Tobacco. Students at Duke are required to live on campus for their first three years, and freshmen live together on the East Campus. The Duke Blue Devils maintain a fierce rivalry with the University of North Carolina--Chapel Hill Tar Heels and are best known for their outstanding men's basketball program, one of the top five winningest college basketball programs in the country. Approximately 30 percent of the student body is affiliated with Greek life, which encompasses more than 30 fraternities and sororities. ",
         "Tuition and fees": 51265,
         "In-state": "nan",
         "Undergrad Enrollment": 6639,
         "state": "NC",
         "_deepnote_index_column": 7
        },
        {
         "Name": "University of Pennsylvania",
         "Location": "Philadelphia, PA",
         "Rank": 8,
         "Description": "The University of Pennsylvania, located in Philadelphia, was founded by Benjamin Franklin. The Penn Quakers have more than 25 NCAA Division I sports that compete in the Ivy League, and are noted for successful basketball and lacrosse teams. Penn offers housing in more than 10 College Houses, but many students live in the numerous off-campus apartments and houses available. More than 25 percent of the student body is involved in Greek life, which encompasses about 45 fraternities and sororities. The school also offers a number of clubs and organizations, ranging from performance groups like the Latin and Ballroom dance club to student publications such as the Penn Political Review. Penn works closely with the West Philadelphia area through community service and advocacy groups. ",
         "Tuition and fees": 51464,
         "In-state": "nan",
         "Undergrad Enrollment": 9726,
         "state": "PA",
         "_deepnote_index_column": 8
        },
        {
         "Name": "Johns Hopkins University",
         "Location": "Baltimore, MD",
         "Rank": 10,
         "Description": "Johns Hopkins University has four main campuses in and around Baltimore. The Homewood Campus, located next to the eclectic neighborhood of Charles Village, is the primary campus for undergraduates, and three other campuses house various graduate schools. Hopkins also has three additional campuses for its School of Advanced International Studies (SAIS) in Washington, D.C.; Bologna, Italy; and Nanjing, China. The Hopkins Blue Jays compete in the NCAA Division III Centennial Conference, but they are perhaps best known for their consistently dominant men's lacrosse team, which competes in NCAA Division I competitions. Freshmen and sophomores are required to live in on-campus residences. There is a sizeable Greek community with a membership of more than 1,000 students. ",
         "Tuition and fees": 50410,
         "In-state": "nan",
         "Undergrad Enrollment": 6524,
         "state": "MD",
         "_deepnote_index_column": 9
        }
       ]
      },
      "text/plain": "                                         Name             Location  Rank  \\\n0                        Princeton University        Princeton, NJ     1   \n1                          Harvard University        Cambridge, MA     2   \n2                       University of Chicago          Chicago, IL     3   \n3                             Yale University        New Haven, CT     3   \n4                         Columbia University         New York, NY     5   \n..                                        ...                  ...   ...   \n226    University of Massachusetts--Dartmouth  North Dartmouth, MA   220   \n227         University of Missouri--St. Louis        St. Louis, MO   220   \n228  University of North Carolina--Greensboro       Greensboro, NC   220   \n229        University of Southern Mississippi      Hattiesburg, MS   220   \n230                     Utah State University            Logan, UT   220   \n\n                                           Description  Tuition and fees  \\\n0    Princeton, the fourth-oldest college in the Un...             45320   \n1    Harvard is located in Cambridge, Massachusetts...             47074   \n2    The University of Chicago, situated in Chicago...             52491   \n3    Yale University, located in New Haven, Connect...             49480   \n4    Columbia University, located in Manhattan's Mo...             55056   \n..                                                 ...               ...   \n226  Located about 60 miles south of Boston, the Un...             19270   \n227  Undergraduates at University of Missouri--St. ...             26277   \n228  University of North Carolina--Greensboro is lo...             21595   \n229  The University of Southern Mississippi has two...             16094   \n230  Founded in 1888, Utah State University is a pu...             19772   \n\n     In-state  Undergrad Enrollment state  \n0         NaN                  5402    NJ  \n1         NaN                  6699    MA  \n2         NaN                  5844    IL  \n3         NaN                  5532    CT  \n4         NaN                  6102    NY  \n..        ...                   ...   ...  \n226   12588.0                  7295    MA  \n227   10065.0                 13569    MO  \n228    6733.0                 15951    NC  \n229    7224.0                 11840    MS  \n230    6866.0                 25259    UT  \n\n[231 rows x 8 columns]",
      "text/html": "<div>\n<style scoped>\n    .dataframe tbody tr th:only-of-type {\n        vertical-align: middle;\n    }\n\n    .dataframe tbody tr th {\n        vertical-align: top;\n    }\n\n    .dataframe thead th {\n        text-align: right;\n    }\n</style>\n<table border=\"1\" class=\"dataframe\">\n  <thead>\n    <tr style=\"text-align: right;\">\n      <th></th>\n      <th>Name</th>\n      <th>Location</th>\n      <th>Rank</th>\n      <th>Description</th>\n      <th>Tuition and fees</th>\n      <th>In-state</th>\n      <th>Undergrad Enrollment</th>\n      <th>state</th>\n    </tr>\n  </thead>\n  <tbody>\n    <tr>\n      <th>0</th>\n      <td>Princeton University</td>\n      <td>Princeton, NJ</td>\n      <td>1</td>\n      <td>Princeton, the fourth-oldest college in the Un...</td>\n      <td>45320</td>\n      <td>NaN</td>\n      <td>5402</td>\n      <td>NJ</td>\n    </tr>\n    <tr>\n      <th>1</th>\n      <td>Harvard University</td>\n      <td>Cambridge, MA</td>\n      <td>2</td>\n      <td>Harvard is located in Cambridge, Massachusetts...</td>\n      <td>47074</td>\n      <td>NaN</td>\n      <td>6699</td>\n      <td>MA</td>\n    </tr>\n    <tr>\n      <th>2</th>\n      <td>University of Chicago</td>\n      <td>Chicago, IL</td>\n      <td>3</td>\n      <td>The University of Chicago, situated in Chicago...</td>\n      <td>52491</td>\n      <td>NaN</td>\n      <td>5844</td>\n      <td>IL</td>\n    </tr>\n    <tr>\n      <th>3</th>\n      <td>Yale University</td>\n      <td>New Haven, CT</td>\n      <td>3</td>\n      <td>Yale University, located in New Haven, Connect...</td>\n      <td>49480</td>\n      <td>NaN</td>\n      <td>5532</td>\n      <td>CT</td>\n    </tr>\n    <tr>\n      <th>4</th>\n      <td>Columbia University</td>\n      <td>New York, NY</td>\n      <td>5</td>\n      <td>Columbia University, located in Manhattan's Mo...</td>\n      <td>55056</td>\n      <td>NaN</td>\n      <td>6102</td>\n      <td>NY</td>\n    </tr>\n    <tr>\n      <th>...</th>\n      <td>...</td>\n      <td>...</td>\n      <td>...</td>\n      <td>...</td>\n      <td>...</td>\n      <td>...</td>\n      <td>...</td>\n      <td>...</td>\n    </tr>\n    <tr>\n      <th>226</th>\n      <td>University of Massachusetts--Dartmouth</td>\n      <td>North Dartmouth, MA</td>\n      <td>220</td>\n      <td>Located about 60 miles south of Boston, the Un...</td>\n      <td>19270</td>\n      <td>12588.0</td>\n      <td>7295</td>\n      <td>MA</td>\n    </tr>\n    <tr>\n      <th>227</th>\n      <td>University of Missouri--St. Louis</td>\n      <td>St. Louis, MO</td>\n      <td>220</td>\n      <td>Undergraduates at University of Missouri--St. ...</td>\n      <td>26277</td>\n      <td>10065.0</td>\n      <td>13569</td>\n      <td>MO</td>\n    </tr>\n    <tr>\n      <th>228</th>\n      <td>University of North Carolina--Greensboro</td>\n      <td>Greensboro, NC</td>\n      <td>220</td>\n      <td>University of North Carolina--Greensboro is lo...</td>\n      <td>21595</td>\n      <td>6733.0</td>\n      <td>15951</td>\n      <td>NC</td>\n    </tr>\n    <tr>\n      <th>229</th>\n      <td>University of Southern Mississippi</td>\n      <td>Hattiesburg, MS</td>\n      <td>220</td>\n      <td>The University of Southern Mississippi has two...</td>\n      <td>16094</td>\n      <td>7224.0</td>\n      <td>11840</td>\n      <td>MS</td>\n    </tr>\n    <tr>\n      <th>230</th>\n      <td>Utah State University</td>\n      <td>Logan, UT</td>\n      <td>220</td>\n      <td>Founded in 1888, Utah State University is a pu...</td>\n      <td>19772</td>\n      <td>6866.0</td>\n      <td>25259</td>\n      <td>UT</td>\n    </tr>\n  </tbody>\n</table>\n<p>231 rows × 8 columns</p>\n</div>"
     },
     "metadata": {}
    }
   ],
   "execution_count": 3
  },
  {
   "cell_type": "code",
   "source": "df['Private or Public'] = \"\"\n\nfor i in range(len(df)):\n    if np.isnan(df.iloc[i, 5]):\n        df.iloc[i,8] = 'Private'\n    else:\n        df.iloc[i,8] = 'Public'\n\ndf",
   "metadata": {
    "cell_id": "8ddadc246bb84eb4a3395b5536178978",
    "tags": [],
    "deepnote_to_be_reexecuted": false,
    "source_hash": "3256d78",
    "execution_start": 1648661318794,
    "execution_millis": 296,
    "deepnote_table_state": {
     "pageSize": 10,
     "pageIndex": 0,
     "filters": [],
     "sortBy": []
    },
    "deepnote_table_loading": false,
    "deepnote_table_invalid": false,
    "deepnote_cell_type": "code",
    "deepnote_cell_height": 760.390625
   },
   "outputs": [
    {
     "output_type": "execute_result",
     "execution_count": 4,
     "data": {
      "application/vnd.deepnote.dataframe.v3+json": {
       "column_count": 9,
       "row_count": 231,
       "columns": [
        {
         "name": "Name",
         "dtype": "object",
         "stats": {
          "unique_count": 231,
          "nan_count": 0,
          "categories": [
           {
            "name": "Princeton University",
            "count": 1
           },
           {
            "name": "Harvard University",
            "count": 1
           },
           {
            "name": "229 others",
            "count": 229
           }
          ]
         }
        },
        {
         "name": "Location",
         "dtype": "object",
         "stats": {
          "unique_count": 192,
          "nan_count": 0,
          "categories": [
           {
            "name": "New York, NY",
            "count": 6
           },
           {
            "name": "Chicago, IL",
            "count": 5
           },
           {
            "name": "190 others",
            "count": 220
           }
          ]
         }
        },
        {
         "name": "Rank",
         "dtype": "int64",
         "stats": {
          "unique_count": 63,
          "nan_count": 0,
          "min": "1",
          "max": "220",
          "histogram": [
           {
            "bin_start": 1,
            "bin_end": 22.9,
            "count": 22
           },
           {
            "bin_start": 22.9,
            "bin_end": 44.8,
            "count": 27
           },
           {
            "bin_start": 44.8,
            "bin_end": 66.69999999999999,
            "count": 18
           },
           {
            "bin_start": 66.69999999999999,
            "bin_end": 88.6,
            "count": 24
           },
           {
            "bin_start": 88.6,
            "bin_end": 110.5,
            "count": 19
           },
           {
            "bin_start": 110.5,
            "bin_end": 132.39999999999998,
            "count": 22
           },
           {
            "bin_start": 132.39999999999998,
            "bin_end": 154.29999999999998,
            "count": 26
           },
           {
            "bin_start": 154.29999999999998,
            "bin_end": 176.2,
            "count": 24
           },
           {
            "bin_start": 176.2,
            "bin_end": 198.1,
            "count": 19
           },
           {
            "bin_start": 198.1,
            "bin_end": 220,
            "count": 30
           }
          ]
         }
        },
        {
         "name": "Description",
         "dtype": "object",
         "stats": {
          "unique_count": 231,
          "nan_count": 0,
          "categories": [
           {
            "name": "Princeton, the fourth-oldest college in the United States, is located in the quiet town of Princeton, New Jersey. Within the walls of its historic ivy-covered campus, Princeton offers a number of events, activities and organizations. The Princeton Tigers, members of the Ivy League, are well known for their consistently strong men's and women's lacrosse teams. Students live in one of six residential colleges that provide a residential community as well as dining services but have the option to join one of more than 10 eating clubs for their junior and senior years. The eating clubs serve as social and dining organizations for the students who join them. Princeton's unofficial motto, \"In the Nation's Service and in the Service of All Nations,\" speaks to the university's commitment to community service. ",
            "count": 1
           },
           {
            "name": "Harvard is located in Cambridge, Massachusetts, just outside of Boston. Harvard's extensive library system houses the oldest collection in the United States and the largest private collection in the world. There is more to the school than endless stacks, though: Harvard's athletic teams compete in the Ivy League, and every football season ends with \"The Game,\" an annual matchup between storied rivals Harvard and Yale. At Harvard, on-campus residential housing is an integral part of student life. Freshmen live around the Harvard Yard at the center of campus, after which they are placed in one of 12 undergraduate houses for their remaining three years. Although they are no longer recognized by the university as official student groups, the eight all-male \"final clubs\" serve as social organizations for some undergraduate students; Harvard also has five female clubs. ",
            "count": 1
           },
           {
            "name": "229 others",
            "count": 229
           }
          ]
         }
        },
        {
         "name": "Tuition and fees",
         "dtype": "int64",
         "stats": {
          "unique_count": 230,
          "nan_count": 0,
          "min": "5300",
          "max": "55056",
          "histogram": [
           {
            "bin_start": 5300,
            "bin_end": 10275.6,
            "count": 1
           },
           {
            "bin_start": 10275.6,
            "bin_end": 15251.2,
            "count": 2
           },
           {
            "bin_start": 15251.2,
            "bin_end": 20226.800000000003,
            "count": 16
           },
           {
            "bin_start": 20226.800000000003,
            "bin_end": 25202.4,
            "count": 35
           },
           {
            "bin_start": 25202.4,
            "bin_end": 30178,
            "count": 51
           },
           {
            "bin_start": 30178,
            "bin_end": 35153.600000000006,
            "count": 32
           },
           {
            "bin_start": 35153.600000000006,
            "bin_end": 40129.200000000004,
            "count": 19
           },
           {
            "bin_start": 40129.200000000004,
            "bin_end": 45104.8,
            "count": 27
           },
           {
            "bin_start": 45104.8,
            "bin_end": 50080.4,
            "count": 26
           },
           {
            "bin_start": 50080.4,
            "bin_end": 55056,
            "count": 22
           }
          ]
         }
        },
        {
         "name": "In-state",
         "dtype": "float64",
         "stats": {
          "unique_count": 132,
          "nan_count": 98,
          "min": "4965.0",
          "max": "18687.0",
          "histogram": [
           {
            "bin_start": 4965,
            "bin_end": 6337.2,
            "count": 3
           },
           {
            "bin_start": 6337.2,
            "bin_end": 7709.4,
            "count": 18
           },
           {
            "bin_start": 7709.4,
            "bin_end": 9081.6,
            "count": 19
           },
           {
            "bin_start": 9081.6,
            "bin_end": 10453.8,
            "count": 23
           },
           {
            "bin_start": 10453.8,
            "bin_end": 11826,
            "count": 24
           },
           {
            "bin_start": 11826,
            "bin_end": 13198.2,
            "count": 11
           },
           {
            "bin_start": 13198.2,
            "bin_end": 14570.4,
            "count": 21
           },
           {
            "bin_start": 14570.4,
            "bin_end": 15942.6,
            "count": 6
           },
           {
            "bin_start": 15942.6,
            "bin_end": 17314.800000000003,
            "count": 3
           },
           {
            "bin_start": 17314.800000000003,
            "bin_end": 18687,
            "count": 5
           }
          ]
         }
        },
        {
         "name": "Undergrad Enrollment",
         "dtype": "int64",
         "stats": {
          "unique_count": 230,
          "nan_count": 0,
          "min": "1001",
          "max": "54513",
          "histogram": [
           {
            "bin_start": 1001,
            "bin_end": 6352.2,
            "count": 61
           },
           {
            "bin_start": 6352.2,
            "bin_end": 11703.4,
            "count": 49
           },
           {
            "bin_start": 11703.4,
            "bin_end": 17054.6,
            "count": 34
           },
           {
            "bin_start": 17054.6,
            "bin_end": 22405.8,
            "count": 30
           },
           {
            "bin_start": 22405.8,
            "bin_end": 27757,
            "count": 27
           },
           {
            "bin_start": 27757,
            "bin_end": 33108.2,
            "count": 15
           },
           {
            "bin_start": 33108.2,
            "bin_end": 38459.4,
            "count": 8
           },
           {
            "bin_start": 38459.4,
            "bin_end": 43810.6,
            "count": 4
           },
           {
            "bin_start": 43810.6,
            "bin_end": 49161.799999999996,
            "count": 2
           },
           {
            "bin_start": 49161.799999999996,
            "bin_end": 54513,
            "count": 1
           }
          ]
         }
        },
        {
         "name": "state",
         "dtype": "object",
         "stats": {
          "unique_count": 51,
          "nan_count": 0,
          "categories": [
           {
            "name": "CA",
            "count": 22
           },
           {
            "name": "NY",
            "count": 21
           },
           {
            "name": "49 others",
            "count": 188
           }
          ]
         }
        },
        {
         "name": "Private or Public",
         "dtype": "object",
         "stats": {
          "unique_count": 2,
          "nan_count": 0,
          "categories": [
           {
            "name": "Public",
            "count": 133
           },
           {
            "name": "Private",
            "count": 98
           }
          ]
         }
        },
        {
         "name": "_deepnote_index_column",
         "dtype": "int64"
        }
       ],
       "rows": [
        {
         "Name": "Princeton University",
         "Location": "Princeton, NJ",
         "Rank": 1,
         "Description": "Princeton, the fourth-oldest college in the United States, is located in the quiet town of Princeton, New Jersey. Within the walls of its historic ivy-covered campus, Princeton offers a number of events, activities and organizations. The Princeton Tigers, members of the Ivy League, are well known for their consistently strong men's and women's lacrosse teams. Students live in one of six residential colleges that provide a residential community as well as dining services but have the option to join one of more than 10 eating clubs for their junior and senior years. The eating clubs serve as social and dining organizations for the students who join them. Princeton's unofficial motto, \"In the Nation's Service and in the Service of All Nations,\" speaks to the university's commitment to community service. ",
         "Tuition and fees": 45320,
         "In-state": "nan",
         "Undergrad Enrollment": 5402,
         "state": "NJ",
         "Private or Public": "Private",
         "_deepnote_index_column": 0
        },
        {
         "Name": "Harvard University",
         "Location": "Cambridge, MA",
         "Rank": 2,
         "Description": "Harvard is located in Cambridge, Massachusetts, just outside of Boston. Harvard's extensive library system houses the oldest collection in the United States and the largest private collection in the world. There is more to the school than endless stacks, though: Harvard's athletic teams compete in the Ivy League, and every football season ends with \"The Game,\" an annual matchup between storied rivals Harvard and Yale. At Harvard, on-campus residential housing is an integral part of student life. Freshmen live around the Harvard Yard at the center of campus, after which they are placed in one of 12 undergraduate houses for their remaining three years. Although they are no longer recognized by the university as official student groups, the eight all-male \"final clubs\" serve as social organizations for some undergraduate students; Harvard also has five female clubs. ",
         "Tuition and fees": 47074,
         "In-state": "nan",
         "Undergrad Enrollment": 6699,
         "state": "MA",
         "Private or Public": "Private",
         "_deepnote_index_column": 1
        },
        {
         "Name": "University of Chicago",
         "Location": "Chicago, IL",
         "Rank": 3,
         "Description": "The University of Chicago, situated in Chicago's Hyde Park community, offers a rich campus life in a big-city setting. The Chicago Maroons have more than 15 NCAA Division III teams, which compete in the University Athletic Association, and have strong basketball and wrestling programs. At Chicago, freshmen are required to live on campus, and more than 50 percent of students choose to remain on campus, while others live in off-campus apartments and houses. On-campus students are placed in \"houses\" within their dorm, which serve as tight-knit communities and provide academic and social support. Chicago offers more than 400 student organizations. ",
         "Tuition and fees": 52491,
         "In-state": "nan",
         "Undergrad Enrollment": 5844,
         "state": "IL",
         "Private or Public": "Private",
         "_deepnote_index_column": 2
        },
        {
         "Name": "Yale University",
         "Location": "New Haven, CT",
         "Rank": 3,
         "Description": "Yale University, located in New Haven, Connecticut, is known for its excellent drama and music programs, which reach outside the classroom with student organizations such as the Yale Whiffenpoofs, a famous a cappella group, and the Yale Dramatic Association. The Yale Bulldogs compete in the Ivy League and are well known for their rivalry with Harvard. Students are assigned to live in one of 12 residential colleges during their time at Yale. Each college has a master and dean who live in the college and eat with students in the dining halls. Cultural houses provide a space for students to build a sense of cultural identity on campus. ",
         "Tuition and fees": 49480,
         "In-state": "nan",
         "Undergrad Enrollment": 5532,
         "state": "CT",
         "Private or Public": "Private",
         "_deepnote_index_column": 3
        },
        {
         "Name": "Columbia University",
         "Location": "New York, NY",
         "Rank": 5,
         "Description": "Columbia University, located in Manhattan's Morningside Heights neighborhood in New York City, offers a wide range of student activities. The Columbia Lions field more than 25 NCAA Division I teams in the Ivy League. More than 90 percent of students live in on-campus housing, ranging from traditional residence halls to university-owned brownstones. Many of the brownstones are populated by the more than 25 Greek fraternity and sorority chapters on campus, whose membership includes about 10 percent of the student body. Organizations such as Urban New York, which gives out free tickets to city events, foster student interaction with life in the Big Apple. ",
         "Tuition and fees": 55056,
         "In-state": "nan",
         "Undergrad Enrollment": 6102,
         "state": "NY",
         "Private or Public": "Private",
         "_deepnote_index_column": 4
        },
        {
         "Name": "Stanford University",
         "Location": "Stanford, CA",
         "Rank": 5,
         "Description": "Stanford University's pristine campus is located in California's Bay Area, about 30 miles from San Francisco. Stanford offers a wide range of student organizations, including the Stanford Pre-Business Association and Stanford Solar Car Project, which designs, builds and races a solar car every two years. The Stanford Cardinals are well known for the traditional \"Big Game\" against Cal, an annual football competition that awards the Stanford Axe--a sought-after trophy--to the victor. Stanford also has successful programs in tennis and golf. Only freshman are required to live on campus, but students are guaranteed housing for all four years and most choose to remain on campus. Greek life at Stanford represents approximately 10 percent of the student body. ",
         "Tuition and fees": 47940,
         "In-state": "nan",
         "Undergrad Enrollment": 6999,
         "state": "CA",
         "Private or Public": "Private",
         "_deepnote_index_column": 5
        },
        {
         "Name": "Massachusetts Institute of Technology",
         "Location": "Cambridge, MA",
         "Rank": 7,
         "Description": "MIT is located in Cambridge, Massachusetts, across the Charles River from downtown Boston. Only freshmen students are required to live on campus, but about 70 percent of students choose to remain on campus during their four years. MIT offers housing in one of the coolest dorms in the country, commonly called \"The Sponge,\" designed by architect Steven Holl. The MIT Engineers boast more than 30 NCAA Division III teams, and their mascot is a beaver, which MIT chose because of its \"remarkable engineering and mechanical skill and its habits of industry.\" Each class designs a unique ring called the \"Brass Rat\" that is revealed during sophomore year, a tradition that dates back to 1929. ",
         "Tuition and fees": 48452,
         "In-state": "nan",
         "Undergrad Enrollment": 4527,
         "state": "MA",
         "Private or Public": "Private",
         "_deepnote_index_column": 6
        },
        {
         "Name": "Duke University",
         "Location": "Durham, NC",
         "Rank": 8,
         "Description": "Durham, North Carolina, which surrounds Duke's campus, offers a variety of activities including shopping, dining and entertainment. Its \"Bull City\" nickname comes from the Blackwell Tobacco Company's Bull Durham Tobacco. Students at Duke are required to live on campus for their first three years, and freshmen live together on the East Campus. The Duke Blue Devils maintain a fierce rivalry with the University of North Carolina--Chapel Hill Tar Heels and are best known for their outstanding men's basketball program, one of the top five winningest college basketball programs in the country. Approximately 30 percent of the student body is affiliated with Greek life, which encompasses more than 30 fraternities and sororities. ",
         "Tuition and fees": 51265,
         "In-state": "nan",
         "Undergrad Enrollment": 6639,
         "state": "NC",
         "Private or Public": "Private",
         "_deepnote_index_column": 7
        },
        {
         "Name": "University of Pennsylvania",
         "Location": "Philadelphia, PA",
         "Rank": 8,
         "Description": "The University of Pennsylvania, located in Philadelphia, was founded by Benjamin Franklin. The Penn Quakers have more than 25 NCAA Division I sports that compete in the Ivy League, and are noted for successful basketball and lacrosse teams. Penn offers housing in more than 10 College Houses, but many students live in the numerous off-campus apartments and houses available. More than 25 percent of the student body is involved in Greek life, which encompasses about 45 fraternities and sororities. The school also offers a number of clubs and organizations, ranging from performance groups like the Latin and Ballroom dance club to student publications such as the Penn Political Review. Penn works closely with the West Philadelphia area through community service and advocacy groups. ",
         "Tuition and fees": 51464,
         "In-state": "nan",
         "Undergrad Enrollment": 9726,
         "state": "PA",
         "Private or Public": "Private",
         "_deepnote_index_column": 8
        },
        {
         "Name": "Johns Hopkins University",
         "Location": "Baltimore, MD",
         "Rank": 10,
         "Description": "Johns Hopkins University has four main campuses in and around Baltimore. The Homewood Campus, located next to the eclectic neighborhood of Charles Village, is the primary campus for undergraduates, and three other campuses house various graduate schools. Hopkins also has three additional campuses for its School of Advanced International Studies (SAIS) in Washington, D.C.; Bologna, Italy; and Nanjing, China. The Hopkins Blue Jays compete in the NCAA Division III Centennial Conference, but they are perhaps best known for their consistently dominant men's lacrosse team, which competes in NCAA Division I competitions. Freshmen and sophomores are required to live in on-campus residences. There is a sizeable Greek community with a membership of more than 1,000 students. ",
         "Tuition and fees": 50410,
         "In-state": "nan",
         "Undergrad Enrollment": 6524,
         "state": "MD",
         "Private or Public": "Private",
         "_deepnote_index_column": 9
        }
       ]
      },
      "text/plain": "                                         Name             Location  Rank  \\\n0                        Princeton University        Princeton, NJ     1   \n1                          Harvard University        Cambridge, MA     2   \n2                       University of Chicago          Chicago, IL     3   \n3                             Yale University        New Haven, CT     3   \n4                         Columbia University         New York, NY     5   \n..                                        ...                  ...   ...   \n226    University of Massachusetts--Dartmouth  North Dartmouth, MA   220   \n227         University of Missouri--St. Louis        St. Louis, MO   220   \n228  University of North Carolina--Greensboro       Greensboro, NC   220   \n229        University of Southern Mississippi      Hattiesburg, MS   220   \n230                     Utah State University            Logan, UT   220   \n\n                                           Description  Tuition and fees  \\\n0    Princeton, the fourth-oldest college in the Un...             45320   \n1    Harvard is located in Cambridge, Massachusetts...             47074   \n2    The University of Chicago, situated in Chicago...             52491   \n3    Yale University, located in New Haven, Connect...             49480   \n4    Columbia University, located in Manhattan's Mo...             55056   \n..                                                 ...               ...   \n226  Located about 60 miles south of Boston, the Un...             19270   \n227  Undergraduates at University of Missouri--St. ...             26277   \n228  University of North Carolina--Greensboro is lo...             21595   \n229  The University of Southern Mississippi has two...             16094   \n230  Founded in 1888, Utah State University is a pu...             19772   \n\n     In-state  Undergrad Enrollment state Private or Public  \n0         NaN                  5402    NJ           Private  \n1         NaN                  6699    MA           Private  \n2         NaN                  5844    IL           Private  \n3         NaN                  5532    CT           Private  \n4         NaN                  6102    NY           Private  \n..        ...                   ...   ...               ...  \n226   12588.0                  7295    MA            Public  \n227   10065.0                 13569    MO            Public  \n228    6733.0                 15951    NC            Public  \n229    7224.0                 11840    MS            Public  \n230    6866.0                 25259    UT            Public  \n\n[231 rows x 9 columns]",
      "text/html": "<div>\n<style scoped>\n    .dataframe tbody tr th:only-of-type {\n        vertical-align: middle;\n    }\n\n    .dataframe tbody tr th {\n        vertical-align: top;\n    }\n\n    .dataframe thead th {\n        text-align: right;\n    }\n</style>\n<table border=\"1\" class=\"dataframe\">\n  <thead>\n    <tr style=\"text-align: right;\">\n      <th></th>\n      <th>Name</th>\n      <th>Location</th>\n      <th>Rank</th>\n      <th>Description</th>\n      <th>Tuition and fees</th>\n      <th>In-state</th>\n      <th>Undergrad Enrollment</th>\n      <th>state</th>\n      <th>Private or Public</th>\n    </tr>\n  </thead>\n  <tbody>\n    <tr>\n      <th>0</th>\n      <td>Princeton University</td>\n      <td>Princeton, NJ</td>\n      <td>1</td>\n      <td>Princeton, the fourth-oldest college in the Un...</td>\n      <td>45320</td>\n      <td>NaN</td>\n      <td>5402</td>\n      <td>NJ</td>\n      <td>Private</td>\n    </tr>\n    <tr>\n      <th>1</th>\n      <td>Harvard University</td>\n      <td>Cambridge, MA</td>\n      <td>2</td>\n      <td>Harvard is located in Cambridge, Massachusetts...</td>\n      <td>47074</td>\n      <td>NaN</td>\n      <td>6699</td>\n      <td>MA</td>\n      <td>Private</td>\n    </tr>\n    <tr>\n      <th>2</th>\n      <td>University of Chicago</td>\n      <td>Chicago, IL</td>\n      <td>3</td>\n      <td>The University of Chicago, situated in Chicago...</td>\n      <td>52491</td>\n      <td>NaN</td>\n      <td>5844</td>\n      <td>IL</td>\n      <td>Private</td>\n    </tr>\n    <tr>\n      <th>3</th>\n      <td>Yale University</td>\n      <td>New Haven, CT</td>\n      <td>3</td>\n      <td>Yale University, located in New Haven, Connect...</td>\n      <td>49480</td>\n      <td>NaN</td>\n      <td>5532</td>\n      <td>CT</td>\n      <td>Private</td>\n    </tr>\n    <tr>\n      <th>4</th>\n      <td>Columbia University</td>\n      <td>New York, NY</td>\n      <td>5</td>\n      <td>Columbia University, located in Manhattan's Mo...</td>\n      <td>55056</td>\n      <td>NaN</td>\n      <td>6102</td>\n      <td>NY</td>\n      <td>Private</td>\n    </tr>\n    <tr>\n      <th>...</th>\n      <td>...</td>\n      <td>...</td>\n      <td>...</td>\n      <td>...</td>\n      <td>...</td>\n      <td>...</td>\n      <td>...</td>\n      <td>...</td>\n      <td>...</td>\n    </tr>\n    <tr>\n      <th>226</th>\n      <td>University of Massachusetts--Dartmouth</td>\n      <td>North Dartmouth, MA</td>\n      <td>220</td>\n      <td>Located about 60 miles south of Boston, the Un...</td>\n      <td>19270</td>\n      <td>12588.0</td>\n      <td>7295</td>\n      <td>MA</td>\n      <td>Public</td>\n    </tr>\n    <tr>\n      <th>227</th>\n      <td>University of Missouri--St. Louis</td>\n      <td>St. Louis, MO</td>\n      <td>220</td>\n      <td>Undergraduates at University of Missouri--St. ...</td>\n      <td>26277</td>\n      <td>10065.0</td>\n      <td>13569</td>\n      <td>MO</td>\n      <td>Public</td>\n    </tr>\n    <tr>\n      <th>228</th>\n      <td>University of North Carolina--Greensboro</td>\n      <td>Greensboro, NC</td>\n      <td>220</td>\n      <td>University of North Carolina--Greensboro is lo...</td>\n      <td>21595</td>\n      <td>6733.0</td>\n      <td>15951</td>\n      <td>NC</td>\n      <td>Public</td>\n    </tr>\n    <tr>\n      <th>229</th>\n      <td>University of Southern Mississippi</td>\n      <td>Hattiesburg, MS</td>\n      <td>220</td>\n      <td>The University of Southern Mississippi has two...</td>\n      <td>16094</td>\n      <td>7224.0</td>\n      <td>11840</td>\n      <td>MS</td>\n      <td>Public</td>\n    </tr>\n    <tr>\n      <th>230</th>\n      <td>Utah State University</td>\n      <td>Logan, UT</td>\n      <td>220</td>\n      <td>Founded in 1888, Utah State University is a pu...</td>\n      <td>19772</td>\n      <td>6866.0</td>\n      <td>25259</td>\n      <td>UT</td>\n      <td>Public</td>\n    </tr>\n  </tbody>\n</table>\n<p>231 rows × 9 columns</p>\n</div>"
     },
     "metadata": {}
    }
   ],
   "execution_count": 4
  },
  {
   "cell_type": "code",
   "source": "df2 = df\n\nconstant_state = \"MA\"\nrange_of_list = 10\nprivate_or_public = \"Private\"\ndf2 = df2[df2[\"state\"] == constant_state]\ndf2 = df2[df2[\"Private or Public\"] == private_or_public]\ndf2 = df2.sort_values(by = \"Rank\")\ndf2 = df2.head(range_of_list)\ndf2",
   "metadata": {
    "cell_id": "d6f244f9876b4450b52f5c0b375dec88",
    "tags": [],
    "deepnote_to_be_reexecuted": false,
    "source_hash": "d086a75b",
    "execution_start": 1648661319093,
    "execution_millis": 104,
    "deepnote_table_state": {
     "pageSize": 10,
     "pageIndex": 0,
     "filters": [],
     "sortBy": []
    },
    "deepnote_table_loading": false,
    "deepnote_cell_type": "code",
    "deepnote_cell_height": 778.390625
   },
   "outputs": [
    {
     "output_type": "execute_result",
     "execution_count": 5,
     "data": {
      "application/vnd.deepnote.dataframe.v3+json": {
       "column_count": 9,
       "row_count": 10,
       "columns": [
        {
         "name": "Name",
         "dtype": "object",
         "stats": {
          "unique_count": 10,
          "nan_count": 0,
          "categories": [
           {
            "name": "Harvard University",
            "count": 1
           },
           {
            "name": "Massachusetts Institute of Technology",
            "count": 1
           },
           {
            "name": "8 others",
            "count": 8
           }
          ]
         }
        },
        {
         "name": "Location",
         "dtype": "object",
         "stats": {
          "unique_count": 6,
          "nan_count": 0,
          "categories": [
           {
            "name": "Boston, MA",
            "count": 3
           },
           {
            "name": "Cambridge, MA",
            "count": 2
           },
           {
            "name": "4 others",
            "count": 5
           }
          ]
         }
        },
        {
         "name": "Rank",
         "dtype": "int64",
         "stats": {
          "unique_count": 9,
          "nan_count": 0,
          "min": "2",
          "max": "188",
          "histogram": [
           {
            "bin_start": 2,
            "bin_end": 20.6,
            "count": 2
           },
           {
            "bin_start": 20.6,
            "bin_end": 39.2,
            "count": 5
           },
           {
            "bin_start": 39.2,
            "bin_end": 57.800000000000004,
            "count": 0
           },
           {
            "bin_start": 57.800000000000004,
            "bin_end": 76.4,
            "count": 2
           },
           {
            "bin_start": 76.4,
            "bin_end": 95,
            "count": 0
           },
           {
            "bin_start": 95,
            "bin_end": 113.60000000000001,
            "count": 0
           },
           {
            "bin_start": 113.60000000000001,
            "bin_end": 132.20000000000002,
            "count": 0
           },
           {
            "bin_start": 132.20000000000002,
            "bin_end": 150.8,
            "count": 0
           },
           {
            "bin_start": 150.8,
            "bin_end": 169.4,
            "count": 0
           },
           {
            "bin_start": 169.4,
            "bin_end": 188,
            "count": 1
           }
          ]
         }
        },
        {
         "name": "Description",
         "dtype": "object",
         "stats": {
          "unique_count": 10,
          "nan_count": 0,
          "categories": [
           {
            "name": "Harvard is located in Cambridge, Massachusetts, just outside of Boston. Harvard's extensive library system houses the oldest collection in the United States and the largest private collection in the world. There is more to the school than endless stacks, though: Harvard's athletic teams compete in the Ivy League, and every football season ends with \"The Game,\" an annual matchup between storied rivals Harvard and Yale. At Harvard, on-campus residential housing is an integral part of student life. Freshmen live around the Harvard Yard at the center of campus, after which they are placed in one of 12 undergraduate houses for their remaining three years. Although they are no longer recognized by the university as official student groups, the eight all-male \"final clubs\" serve as social organizations for some undergraduate students; Harvard also has five female clubs. ",
            "count": 1
           },
           {
            "name": "MIT is located in Cambridge, Massachusetts, across the Charles River from downtown Boston. Only freshmen students are required to live on campus, but about 70 percent of students choose to remain on campus during their four years. MIT offers housing in one of the coolest dorms in the country, commonly called \"The Sponge,\" designed by architect Steven Holl. The MIT Engineers boast more than 30 NCAA Division III teams, and their mascot is a beaver, which MIT chose because of its \"remarkable engineering and mechanical skill and its habits of industry.\" Each class designs a unique ring called the \"Brass Rat\" that is revealed during sophomore year, a tradition that dates back to 1929. ",
            "count": 1
           },
           {
            "name": "8 others",
            "count": 8
           }
          ]
         }
        },
        {
         "name": "Tuition and fees",
         "dtype": "int64",
         "stats": {
          "unique_count": 10,
          "nan_count": 0,
          "min": "35578",
          "max": "52430",
          "histogram": [
           {
            "bin_start": 35578,
            "bin_end": 37263.2,
            "count": 1
           },
           {
            "bin_start": 37263.2,
            "bin_end": 38948.4,
            "count": 0
           },
           {
            "bin_start": 38948.4,
            "bin_end": 40633.6,
            "count": 0
           },
           {
            "bin_start": 40633.6,
            "bin_end": 42318.8,
            "count": 0
           },
           {
            "bin_start": 42318.8,
            "bin_end": 44004,
            "count": 1
           },
           {
            "bin_start": 44004,
            "bin_end": 45689.2,
            "count": 0
           },
           {
            "bin_start": 45689.2,
            "bin_end": 47374.4,
            "count": 2
           },
           {
            "bin_start": 47374.4,
            "bin_end": 49059.6,
            "count": 2
           },
           {
            "bin_start": 49059.6,
            "bin_end": 50744.8,
            "count": 1
           },
           {
            "bin_start": 50744.8,
            "bin_end": 52430,
            "count": 3
           }
          ]
         }
        },
        {
         "name": "In-state",
         "dtype": "float64",
         "stats": {
          "unique_count": 0,
          "nan_count": 10,
          "min": null,
          "max": null,
          "histogram": [
           {
            "bin_start": 0,
            "bin_end": 0.1,
            "count": 0
           },
           {
            "bin_start": 0.1,
            "bin_end": 0.2,
            "count": 0
           },
           {
            "bin_start": 0.2,
            "bin_end": 0.30000000000000004,
            "count": 0
           },
           {
            "bin_start": 0.30000000000000004,
            "bin_end": 0.4,
            "count": 0
           },
           {
            "bin_start": 0.4,
            "bin_end": 0.5,
            "count": 0
           },
           {
            "bin_start": 0.5,
            "bin_end": 0.6000000000000001,
            "count": 0
           },
           {
            "bin_start": 0.6000000000000001,
            "bin_end": 0.7000000000000001,
            "count": 0
           },
           {
            "bin_start": 0.7000000000000001,
            "bin_end": 0.8,
            "count": 0
           },
           {
            "bin_start": 0.8,
            "bin_end": 0.9,
            "count": 0
           },
           {
            "bin_start": 0.9,
            "bin_end": 1,
            "count": 0
           }
          ]
         }
        },
        {
         "name": "Undergrad Enrollment",
         "dtype": "int64",
         "stats": {
          "unique_count": 10,
          "nan_count": 0,
          "min": "2397",
          "max": "17932",
          "histogram": [
           {
            "bin_start": 2397,
            "bin_end": 3950.5,
            "count": 2
           },
           {
            "bin_start": 3950.5,
            "bin_end": 5504,
            "count": 3
           },
           {
            "bin_start": 5504,
            "bin_end": 7057.5,
            "count": 2
           },
           {
            "bin_start": 7057.5,
            "bin_end": 8611,
            "count": 0
           },
           {
            "bin_start": 8611,
            "bin_end": 10164.5,
            "count": 1
           },
           {
            "bin_start": 10164.5,
            "bin_end": 11718,
            "count": 0
           },
           {
            "bin_start": 11718,
            "bin_end": 13271.5,
            "count": 0
           },
           {
            "bin_start": 13271.5,
            "bin_end": 14825,
            "count": 1
           },
           {
            "bin_start": 14825,
            "bin_end": 16378.5,
            "count": 0
           },
           {
            "bin_start": 16378.5,
            "bin_end": 17932,
            "count": 1
           }
          ]
         }
        },
        {
         "name": "state",
         "dtype": "object",
         "stats": {
          "unique_count": 1,
          "nan_count": 0,
          "categories": [
           {
            "name": "MA",
            "count": 10
           }
          ]
         }
        },
        {
         "name": "Private or Public",
         "dtype": "object",
         "stats": {
          "unique_count": 1,
          "nan_count": 0,
          "categories": [
           {
            "name": "Private",
            "count": 10
           }
          ]
         }
        },
        {
         "name": "_deepnote_index_column",
         "dtype": "int64"
        }
       ],
       "rows": [
        {
         "Name": "Harvard University",
         "Location": "Cambridge, MA",
         "Rank": 2,
         "Description": "Harvard is located in Cambridge, Massachusetts, just outside of Boston. Harvard's extensive library system houses the oldest collection in the United States and the largest private collection in the world. There is more to the school than endless stacks, though: Harvard's athletic teams compete in the Ivy League, and every football season ends with \"The Game,\" an annual matchup between storied rivals Harvard and Yale. At Harvard, on-campus residential housing is an integral part of student life. Freshmen live around the Harvard Yard at the center of campus, after which they are placed in one of 12 undergraduate houses for their remaining three years. Although they are no longer recognized by the university as official student groups, the eight all-male \"final clubs\" serve as social organizations for some undergraduate students; Harvard also has five female clubs. ",
         "Tuition and fees": 47074,
         "In-state": "nan",
         "Undergrad Enrollment": 6699,
         "state": "MA",
         "Private or Public": "Private",
         "_deepnote_index_column": 1
        },
        {
         "Name": "Massachusetts Institute of Technology",
         "Location": "Cambridge, MA",
         "Rank": 7,
         "Description": "MIT is located in Cambridge, Massachusetts, across the Charles River from downtown Boston. Only freshmen students are required to live on campus, but about 70 percent of students choose to remain on campus during their four years. MIT offers housing in one of the coolest dorms in the country, commonly called \"The Sponge,\" designed by architect Steven Holl. The MIT Engineers boast more than 30 NCAA Division III teams, and their mascot is a beaver, which MIT chose because of its \"remarkable engineering and mechanical skill and its habits of industry.\" Each class designs a unique ring called the \"Brass Rat\" that is revealed during sophomore year, a tradition that dates back to 1929. ",
         "Tuition and fees": 48452,
         "In-state": "nan",
         "Undergrad Enrollment": 4527,
         "state": "MA",
         "Private or Public": "Private",
         "_deepnote_index_column": 6
        },
        {
         "Name": "Tufts University",
         "Location": "Medford, MA",
         "Rank": 27,
         "Description": "Tufts University is located in the Medford/Somerville area of Massachusetts, not far from downtown Boston. Tufts has additional campuses in Boston's Chinatown neighborhood, where its health sciences program is located, and in the suburb of Grafton, home to the Cummings School of Veterinary Medicine. All freshmen and sophomores are required to live on campus in dorms, suites or university-owned houses or apartments. Some student groups are the Cycling Club; the Beelzebubs, an all-male a cappella group; and the Freethought Society. About half of the student body participates in study abroad programs, and approximately 15 percent of students are affiliated with Greek life. Tufts' official mascot, Jumbo the elephant, is the only school mascot listed in Webster's Dictionary. ",
         "Tuition and fees": 52430,
         "In-state": "nan",
         "Undergrad Enrollment": 5290,
         "state": "MA",
         "Private or Public": "Private",
         "_deepnote_index_column": 26
        },
        {
         "Name": "Boston College",
         "Location": "Chestnut Hill, MA",
         "Rank": 31,
         "Description": "Boston College was founded by the Society of Jesus and has maintained its Roman Catholic Jesuit religious affiliation. B.C. competes in nearly 30 NCAA Division I varsity sports in the Atlantic Coast Conference. The B.C. Eagles have one of the highest graduation rates for their student-athletes in the country. There are no fraternities or sororities on campus, however the school has more than 200 clubs and organizations. Freshmen are not required to live on campus, but the majority choose to do so. B.C. is located in Chestnut Hill, Mass., which is six miles west of downtown Boston, and its main campus is listed on the National Register of Historic Places. ",
         "Tuition and fees": 51296,
         "In-state": "nan",
         "Undergrad Enrollment": 9192,
         "state": "MA",
         "Private or Public": "Private",
         "_deepnote_index_column": 30
        },
        {
         "Name": "Brandeis University",
         "Location": "Waltham, MA",
         "Rank": 34,
         "Description": "Brandeis University is located in Waltham, Mass., just nine miles west of Boston. Students are guaranteed housing for their first four semesters. In addition to student-run TV and radio stations, Brandeis has religious and performance groups, service organizations, cultural awareness groups, performance groups and more. The Shapiro Campus Center serves as a hub of student activity on campus, housing a theater, bookstore, cafe, library, meeting rooms and a student art gallery. Cholmondeley's, the campus coffeehouse, is another hotspot for concerts and comedy shows. The Brandeis Judges field more than 15 NCAA Division III teams and are known for their strong men's soccer team. There is no Greek life on campus. ",
         "Tuition and fees": 51570,
         "In-state": "nan",
         "Undergrad Enrollment": 3621,
         "state": "MA",
         "Private or Public": "Private",
         "_deepnote_index_column": 33
        },
        {
         "Name": "Boston University",
         "Location": "Boston, MA",
         "Rank": 39,
         "Description": "Boston University is one of the largest independent, nonprofit universities in the country. The BU Terriers have more than 20 NCAA Division I varsity sports. BU's hockey team has won multiple NCAA national championships. BU also has nearly 500 student clubs, ranging from Ski Racing to the Juggling Association. BU created one of the first study abroad programs, and currently sponsors more than 90 international programs. Freshmen are required to live on campus, and about 80 percent of undergraduate students live on the main Boston campus, which lies along the Charles River. ",
         "Tuition and fees": 50240,
         "In-state": "nan",
         "Undergrad Enrollment": 17932,
         "state": "MA",
         "Private or Public": "Private",
         "_deepnote_index_column": 38
        },
        {
         "Name": "Northeastern University",
         "Location": "Boston, MA",
         "Rank": 39,
         "Description": "At Northeastern University, students gain substantial work experience before receiving their diplomas. About 90 percent of Northeastern undergraduates complete at least one professional co-op during their college career, working for one of more than 2,000 employers around the world, such as GEICO and MTV. Students can choose to complete their degree in four years, with the potential for two co-ops, or five years, building in time for three co-ops. Outside of the classroom and workplace, there are more than 300 clubs and organizations for students, including about 25 fraternities and sororities. The Northeastern Huskies compete in the NCAA Division I Colonial Athletic Conference. More than 3,000 students compete at the club and intramural sport level. Freshmen and sophomores are required to live on campus. Northeastern's campus is spread out across 73 acres in the venerable college town of Boston. Northeastern has its own stop on Boston's subway system, commonly called the T. The city,…",
         "Tuition and fees": 47655,
         "In-state": "nan",
         "Undergrad Enrollment": 13697,
         "state": "MA",
         "Private or Public": "Private",
         "_deepnote_index_column": 39
        },
        {
         "Name": "Worcester Polytechnic Institute",
         "Location": "Worcester, MA",
         "Rank": 60,
         "Description": "Among the 10 colleges located in Worcester, Mass., Worcester Polytechnic Institute stands out as a close-knit private school grounded in scientific education. The student body is actively engaged in campus activities, such as the rivalry contests like the gigantic tug-of-war held throughout the year that pit the freshmen class against the sophomores.  than 30 percent of students are members of the school's 15 or so fraternities and sororities. Even more - close to 70 percent - are involved in campus sports at some level. The WPI Engineers compete in the NCAA Division III New England Men's and Women's Athletic Conference, supported by mascot Gompei, a goat. Though the original school mascot was the head of a once-live goat, the school now uses a man-made replica for a mascot. WPI students also come out in droves for the school's club sports and intramural program, and all students must take four physical education courses, ranging from lifeguarding to plyometrics. Freshmen do not have …",
         "Tuition and fees": 46994,
         "In-state": "nan",
         "Undergrad Enrollment": 4299,
         "state": "MA",
         "Private or Public": "Private",
         "_deepnote_index_column": 64
        },
        {
         "Name": "Clark University",
         "Location": "Worcester, MA",
         "Rank": 74,
         "Description": "Clark University in Worcester, Mass., is a small liberal arts institution in the midst of 11 other colleges and universities. Together, the schools make up the Higher Education Consortium of Central Massachusetts. All Clark students can get a WOO card: a pass that grants discounts at area attractions, baseball games and the local ski slope, Wachusett Mountain. Clark students can also ride the free intercampus shuttle to Becker College, Worcester Polytechnic Institute, Assumption College, Worcester State University and College of the Holy Cross. Students can also hop aboard to get to Worcester Public Library, Worcester Art Museum and the local train and bus station. On campus, Clark students can choose from more than 100 clubs and organizations, but the school does not have a Greek system. The Clark Cougars sports teams compete in the NCAA Division III New England Women's and Men's Athletic Conference. Freshmen and sophomores must live on campus, and all students are allowed to bring c…",
         "Tuition and fees": 43150,
         "In-state": "nan",
         "Undergrad Enrollment": 2397,
         "state": "MA",
         "Private or Public": "Private",
         "_deepnote_index_column": 74
        },
        {
         "Name": "Suffolk University",
         "Location": "Boston, MA",
         "Rank": 188,
         "Description": "Visitors to the Massachusetts State House in the heart of downtown Boston have surely come across the campus of Suffolk University, situated in the historic neighborhood of Beacon Hill. Students are not required to live on campus during their career at the university, and the majority of undergraduate students live off campus in apartments or commute from home. The Suffolk Rams are members of the NCAA Division III Great Northeast Athletic Conference and the Eastern College Athletic Conference. The school hosts about a dozen varsity sports and provides seasonal intramural sports for its student body. ",
         "Tuition and fees": 35578,
         "In-state": "nan",
         "Undergrad Enrollment": 5565,
         "state": "MA",
         "Private or Public": "Private",
         "_deepnote_index_column": 191
        }
       ]
      },
      "text/plain": "                                      Name           Location  Rank  \\\n1                       Harvard University      Cambridge, MA     2   \n6    Massachusetts Institute of Technology      Cambridge, MA     7   \n26                        Tufts University        Medford, MA    27   \n30                          Boston College  Chestnut Hill, MA    31   \n33                     Brandeis University        Waltham, MA    34   \n38                       Boston University         Boston, MA    39   \n39                 Northeastern University         Boston, MA    39   \n64         Worcester Polytechnic Institute      Worcester, MA    60   \n74                        Clark University      Worcester, MA    74   \n191                     Suffolk University         Boston, MA   188   \n\n                                           Description  Tuition and fees  \\\n1    Harvard is located in Cambridge, Massachusetts...             47074   \n6    MIT is located in Cambridge, Massachusetts, ac...             48452   \n26   Tufts University is located in the Medford/Som...             52430   \n30   Boston College was founded by the Society of J...             51296   \n33   Brandeis University is located in Waltham, Mas...             51570   \n38   Boston University is one of the largest indepe...             50240   \n39   At Northeastern University, students gain subs...             47655   \n64   Among the 10 colleges located in Worcester, Ma...             46994   \n74   Clark University in Worcester, Mass., is a sma...             43150   \n191  Visitors to the Massachusetts State House in t...             35578   \n\n     In-state  Undergrad Enrollment state Private or Public  \n1         NaN                  6699    MA           Private  \n6         NaN                  4527    MA           Private  \n26        NaN                  5290    MA           Private  \n30        NaN                  9192    MA           Private  \n33        NaN                  3621    MA           Private  \n38        NaN                 17932    MA           Private  \n39        NaN                 13697    MA           Private  \n64        NaN                  4299    MA           Private  \n74        NaN                  2397    MA           Private  \n191       NaN                  5565    MA           Private  ",
      "text/html": "<div>\n<style scoped>\n    .dataframe tbody tr th:only-of-type {\n        vertical-align: middle;\n    }\n\n    .dataframe tbody tr th {\n        vertical-align: top;\n    }\n\n    .dataframe thead th {\n        text-align: right;\n    }\n</style>\n<table border=\"1\" class=\"dataframe\">\n  <thead>\n    <tr style=\"text-align: right;\">\n      <th></th>\n      <th>Name</th>\n      <th>Location</th>\n      <th>Rank</th>\n      <th>Description</th>\n      <th>Tuition and fees</th>\n      <th>In-state</th>\n      <th>Undergrad Enrollment</th>\n      <th>state</th>\n      <th>Private or Public</th>\n    </tr>\n  </thead>\n  <tbody>\n    <tr>\n      <th>1</th>\n      <td>Harvard University</td>\n      <td>Cambridge, MA</td>\n      <td>2</td>\n      <td>Harvard is located in Cambridge, Massachusetts...</td>\n      <td>47074</td>\n      <td>NaN</td>\n      <td>6699</td>\n      <td>MA</td>\n      <td>Private</td>\n    </tr>\n    <tr>\n      <th>6</th>\n      <td>Massachusetts Institute of Technology</td>\n      <td>Cambridge, MA</td>\n      <td>7</td>\n      <td>MIT is located in Cambridge, Massachusetts, ac...</td>\n      <td>48452</td>\n      <td>NaN</td>\n      <td>4527</td>\n      <td>MA</td>\n      <td>Private</td>\n    </tr>\n    <tr>\n      <th>26</th>\n      <td>Tufts University</td>\n      <td>Medford, MA</td>\n      <td>27</td>\n      <td>Tufts University is located in the Medford/Som...</td>\n      <td>52430</td>\n      <td>NaN</td>\n      <td>5290</td>\n      <td>MA</td>\n      <td>Private</td>\n    </tr>\n    <tr>\n      <th>30</th>\n      <td>Boston College</td>\n      <td>Chestnut Hill, MA</td>\n      <td>31</td>\n      <td>Boston College was founded by the Society of J...</td>\n      <td>51296</td>\n      <td>NaN</td>\n      <td>9192</td>\n      <td>MA</td>\n      <td>Private</td>\n    </tr>\n    <tr>\n      <th>33</th>\n      <td>Brandeis University</td>\n      <td>Waltham, MA</td>\n      <td>34</td>\n      <td>Brandeis University is located in Waltham, Mas...</td>\n      <td>51570</td>\n      <td>NaN</td>\n      <td>3621</td>\n      <td>MA</td>\n      <td>Private</td>\n    </tr>\n    <tr>\n      <th>38</th>\n      <td>Boston University</td>\n      <td>Boston, MA</td>\n      <td>39</td>\n      <td>Boston University is one of the largest indepe...</td>\n      <td>50240</td>\n      <td>NaN</td>\n      <td>17932</td>\n      <td>MA</td>\n      <td>Private</td>\n    </tr>\n    <tr>\n      <th>39</th>\n      <td>Northeastern University</td>\n      <td>Boston, MA</td>\n      <td>39</td>\n      <td>At Northeastern University, students gain subs...</td>\n      <td>47655</td>\n      <td>NaN</td>\n      <td>13697</td>\n      <td>MA</td>\n      <td>Private</td>\n    </tr>\n    <tr>\n      <th>64</th>\n      <td>Worcester Polytechnic Institute</td>\n      <td>Worcester, MA</td>\n      <td>60</td>\n      <td>Among the 10 colleges located in Worcester, Ma...</td>\n      <td>46994</td>\n      <td>NaN</td>\n      <td>4299</td>\n      <td>MA</td>\n      <td>Private</td>\n    </tr>\n    <tr>\n      <th>74</th>\n      <td>Clark University</td>\n      <td>Worcester, MA</td>\n      <td>74</td>\n      <td>Clark University in Worcester, Mass., is a sma...</td>\n      <td>43150</td>\n      <td>NaN</td>\n      <td>2397</td>\n      <td>MA</td>\n      <td>Private</td>\n    </tr>\n    <tr>\n      <th>191</th>\n      <td>Suffolk University</td>\n      <td>Boston, MA</td>\n      <td>188</td>\n      <td>Visitors to the Massachusetts State House in t...</td>\n      <td>35578</td>\n      <td>NaN</td>\n      <td>5565</td>\n      <td>MA</td>\n      <td>Private</td>\n    </tr>\n  </tbody>\n</table>\n</div>"
     },
     "metadata": {}
    }
   ],
   "execution_count": 5
  },
  {
   "cell_type": "code",
   "source": "plt.scatter(df2['Undergrad Enrollment'], df2['Tuition and fees'])\nplt.show()",
   "metadata": {
    "cell_id": "a009140e26d243c7a878f28f41452d0e",
    "tags": [],
    "deepnote_to_be_reexecuted": false,
    "source_hash": "3fbb1268",
    "execution_start": 1648661319211,
    "execution_millis": 689,
    "deepnote_cell_type": "code",
    "deepnote_cell_height": 364.953125,
    "deepnote_output_heights": [
     249.984375
    ]
   },
   "outputs": [
    {
     "data": {
      "text/plain": "<Figure size 432x288 with 1 Axes>",
      "image/png": "[encoded data removed]"
     },
     "metadata": {
      "needs_background": "light",
      "image/png": {
       "width": 389,
       "height": 248
      }
     },
     "output_type": "display_data"
    }
   ],
   "execution_count": 6
  },
  {
   "cell_type": "markdown",
   "source": "<a style='text-decoration:none;line-height:16px;display:flex;color:#5B5B62;padding:10px;justify-content:end;' href='https://deepnote.com?utm_source=created-in-deepnote-cell&projectId=dfad1b39-6152-4810-a996-9f75c9a50f12' target=\"_blank\">\n<img alt='Created in deepnote.com' style='display:inline;max-height:16px;margin:0px;margin-right:7.5px;' src='data:image/svg+xml;base64,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' > </img>\nCreated in <span style='font-weight:600;margin-left:4px;'>Deepnote</span></a>",
   "metadata": {
    "tags": [],
    "created_in_deepnote_cell": true,
    "deepnote_cell_type": "markdown"
   }
  }
 ],
 "nbformat": 4,
 "nbformat_minor": 2,
 "metadata": {
  "orig_nbformat": 2,
  "deepnote": {
   "is_reactive": false
  },
  "deepnote_notebook_id": "82df643a-0403-4de2-b730-f22b13913bb5",
  "deepnote_execution_queue": []
 }
}